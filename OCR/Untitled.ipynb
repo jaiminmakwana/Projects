{
 "cells": [
  {
   "cell_type": "code",
   "execution_count": 1,
   "id": "751845e0",
   "metadata": {},
   "outputs": [],
   "source": [
    "import pytesseract\n",
    "pytesseract.pytesseract.tesseract_cmd = r'C:\\\\Program Files\\\\Tesseract-OCR\\\\tesseract.exe'\n"
   ]
  },
  {
   "cell_type": "code",
   "execution_count": 2,
   "id": "c7662626",
   "metadata": {},
   "outputs": [],
   "source": [
    "import cv2\n",
    "\n",
    "# from PIL import Image\n",
    "# import pytesseract\n",
    "# from pdf2image import convert_from_path"
   ]
  },
  {
   "cell_type": "code",
   "execution_count": null,
   "id": "3694737f",
   "metadata": {},
   "outputs": [],
   "source": [
    "img = cv2.imread('image1.png')\n",
    "cv2.imshow('sample image', img)\n",
    "\n",
    "cv2.waitKey(0)\n",
    "cv2.destroyAllWindows()"
   ]
  },
  {
   "cell_type": "code",
   "execution_count": null,
   "id": "12e42ea3",
   "metadata": {},
   "outputs": [],
   "source": [
    "text = pytesseract.image_to_string(img)\n",
    "print(text)"
   ]
  },
  {
   "cell_type": "code",
   "execution_count": null,
   "id": "b1001cd8",
   "metadata": {},
   "outputs": [],
   "source": [
    "text = pytesseract.image_to_string(cv2.imread('image2.png'))\n",
    "print(text)"
   ]
  },
  {
   "cell_type": "code",
   "execution_count": 3,
   "id": "16eb6648",
   "metadata": {},
   "outputs": [],
   "source": []
  },
  {
   "cell_type": "code",
   "execution_count": null,
   "id": "a4463d2a",
   "metadata": {},
   "outputs": [],
   "source": [
    "def extract_text_from_pdf(pdf_path):\n",
    "    \n",
    "    images = convert_from_path(pdf_path)\n",
    "    \n",
    "    extracted_text = []\n",
    "    \n",
    "    for i, image in enumerate(images):\n",
    "        \n",
    "        text = pytesseract.image_to_string(image, lang='eng')\n",
    "        \n",
    "        extracted_text.append(text)\n",
    "        \n",
    "    return extracted_text"
   ]
  },
  {
   "cell_type": "code",
   "execution_count": null,
   "id": "7e1fa71f",
   "metadata": {},
   "outputs": [],
   "source": [
    "pdf_path = 'Python.pdf'\n",
    "text_path = extract_text_from_pdf(pdf_path)\n"
   ]
  },
  {
   "cell_type": "code",
   "execution_count": null,
   "id": "a658d211",
   "metadata": {},
   "outputs": [],
   "source": [
    "for i, text in enumerate(text_data):\n",
    "    print(f\"Text from Page {i+1}:\\n{text}\\n{'-'*50}\")"
   ]
  },
  {
   "cell_type": "code",
   "execution_count": null,
   "id": "907c8bb7",
   "metadata": {},
   "outputs": [],
   "source": []
  }
 ],
 "metadata": {
  "kernelspec": {
   "display_name": "Python 3 (ipykernel)",
   "language": "python",
   "name": "python3"
  },
  "language_info": {
   "codemirror_mode": {
    "name": "ipython",
    "version": 3
   },
   "file_extension": ".py",
   "mimetype": "text/x-python",
   "name": "python",
   "nbconvert_exporter": "python",
   "pygments_lexer": "ipython3",
   "version": "3.11.5"
  }
 },
 "nbformat": 4,
 "nbformat_minor": 5
}
